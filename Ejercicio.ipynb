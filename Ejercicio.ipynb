{
 "cells": [
  {
   "cell_type": "markdown",
   "metadata": {},
   "source": [
    "<h1 style=\"text-align: center;\"> Tarea Machine Learning </h1>\n",
    "<h1 style=\"text-align: right; font-size: 24px; margin-right: 10px;\">Guillermo Díaz Aguado</h1>"
   ]
  },
  {
   "cell_type": "code",
   "execution_count": 2,
   "metadata": {},
   "outputs": [],
   "source": [
    "import pandas as pd\n",
    "import numpy as np\n",
    "import matplotlib.pyplot as plt\n",
    "\n",
    "\n",
    "# Mostrar todas las filas y columnas en outputs\n",
    "pd.set_option('display.max_rows', None)\n",
    "pd.set_option('display.max_columns', None)\n",
    "pd.set_option('display.max_colwidth', None)\n",
    "\n"
   ]
  },
  {
   "cell_type": "code",
   "execution_count": 3,
   "metadata": {},
   "outputs": [
    {
     "data": {
      "text/plain": [
       "4340"
      ]
     },
     "execution_count": 3,
     "metadata": {},
     "output_type": "execute_result"
    }
   ],
   "source": [
    "df = pd.read_excel(\"datos_tarea25.xlsx\")\n",
    "len(df)"
   ]
  },
  {
   "cell_type": "code",
   "execution_count": 4,
   "metadata": {},
   "outputs": [],
   "source": [
    "# Quito los \"-\" de la columna \"Levy\"\n",
    "df[\"Levy\"] = df[\"Levy\"].replace(\"-\", np.nan)\n",
    "\n",
    "\n",
    "def poner_1_y_0(df, columna, str1, str0):\n",
    "    return df[columna].map({str1:1, str0:0})\n",
    "\n",
    "# Cambiar las columnas \"Leather interior\", \"Gear box type\", \"Wheel\", \"Color\" ->  a valores de 0 y 1\n",
    "df[\"Leather interior\"] = poner_1_y_0(df, \"Leather interior\", \"Yes\", \"No\")\n",
    "df[\"Gear box type\"] = poner_1_y_0(df, \"Gear box type\", \"Tiptronic\", \"Automatic\")\n",
    "df[\"Wheel\"] = poner_1_y_0(df, \"Wheel\", \"Left wheel\", \"Right-hand drive\")\n",
    "df[\"Color\"] = poner_1_y_0(df, \"Color\", \"White\", \"Black\")\n",
    "\n",
    "\n",
    "# Crear columna de 1 y 0 que indica si tiene turbo\n",
    "df[\"Tiene Turbo\"] = df[\"Engine volume\"].astype(str).str.contains(\"Turbo\").astype(int)\n",
    "\n",
    "# Limpiar la columna \"Engine volume\" y convertir a numérico\n",
    "df[\"Engine volume\"] = df[\"Engine volume\"].astype(str).str.replace(r\"Turbo\", \"\", regex=True).astype(float)\n",
    "\n",
    "# Limpiar la columna \"Mileage\" quitando \"km\"\n",
    "df[\"Mileage\"] = df[\"Mileage\"].astype(str).str.replace(r\"km\", \"\", regex=True).astype(int)\n",
    "\n"
   ]
  },
  {
   "cell_type": "code",
   "execution_count": 5,
   "metadata": {},
   "outputs": [
    {
     "data": {
      "text/plain": [
       "Price                 int64\n",
       "Levy                 object\n",
       "Manufacturer         object\n",
       "Prod. year            int64\n",
       "Category             object\n",
       "Leather interior      int64\n",
       "Fuel type            object\n",
       "Engine volume       float64\n",
       "Mileage               int32\n",
       "Cylinders             int64\n",
       "Gear box type         int64\n",
       "Drive wheels         object\n",
       "Wheel                 int64\n",
       "Color                 int64\n",
       "Airbags               int64\n",
       "Tiene Turbo           int32\n",
       "dtype: object"
      ]
     },
     "execution_count": 5,
     "metadata": {},
     "output_type": "execute_result"
    }
   ],
   "source": [
    "df.dtypes"
   ]
  },
  {
   "cell_type": "code",
   "execution_count": 6,
   "metadata": {},
   "outputs": [],
   "source": [
    "def rango_intercuartilico(series):\n",
    "    # Calculo el Q1, el Q3 y el IQR\n",
    "    Q1 = series.quantile(0.25)\n",
    "    Q3 = series.quantile(0.75)\n",
    "    IQR = Q3 - Q1\n",
    "\n",
    "    # Establezco los limites para detectar outliers\n",
    "    lim_inf = Q1 - 1.5*IQR\n",
    "    lim_sup = Q3 + 1.5*IQR\n",
    "\n",
    "    #Detecto los valores atipicos\n",
    "    outliers = ((series<lim_inf) | (series>lim_sup)).astype(int)\n",
    "    return outliers\n",
    "\n",
    "def zscore_outliers(series, umbral=3):\n",
    "    media = series.mean()\n",
    "    std = series.std()\n",
    "\n",
    "    z_scores = (series - media) / std\n",
    "    return (z_scores.abs() > umbral).astype(int) "
   ]
  },
  {
   "cell_type": "code",
   "execution_count": 10,
   "metadata": {},
   "outputs": [
    {
     "data": {
      "text/plain": [
       "389"
      ]
     },
     "execution_count": 10,
     "metadata": {},
     "output_type": "execute_result"
    }
   ],
   "source": [
    "def valores_atipicos(df, show_1=True):\n",
    "    # Primero seleccionaremos los datos que sean nuemricos\n",
    "    numericas = list(df.select_dtypes(include=['int', 'int32', 'int64','float', 'float32', 'float64']))\n",
    "    \n",
    "    numericas = [x for x in numericas if x not in [\"Leather interior\", \"Gear box type\", \"Wheel\", \"Color\", \"Tiene Turbo\"]]\n",
    "\n",
    "    atipicos_por_columna = []\n",
    "\n",
    "    for columna in numericas:\n",
    "        atipicos = pd.DataFrame({\n",
    "            \"Intercuartilico\":rango_intercuartilico(df[columna]),\n",
    "            \"Z-Score\": zscore_outliers(df[columna])\n",
    "        })\n",
    "        atipicos_por_columna.append(atipicos)\n",
    "\n",
    "    final = pd.MultiIndex.from_product([numericas, atipicos_por_columna[0].columns])\n",
    "\n",
    "    df_final = pd.concat(atipicos_por_columna, axis=1)\n",
    "    df_final.columns = final\n",
    "\n",
    "    if show_1:\n",
    "        suma = df_final.sum(axis=1)\n",
    "        return df_final[suma>0]\n",
    "\n",
    "len(valores_atipicos(df[[\"Price\", \"Prod. year\", \"Mileage\", \"Cylinders\"]]))"
   ]
  }
 ],
 "metadata": {
  "kernelspec": {
   "display_name": "Python 3",
   "language": "python",
   "name": "python3"
  },
  "language_info": {
   "codemirror_mode": {
    "name": "ipython",
    "version": 3
   },
   "file_extension": ".py",
   "mimetype": "text/x-python",
   "name": "python",
   "nbconvert_exporter": "python",
   "pygments_lexer": "ipython3",
   "version": "3.12.2"
  }
 },
 "nbformat": 4,
 "nbformat_minor": 2
}

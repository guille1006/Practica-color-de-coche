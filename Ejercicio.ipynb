{
 "cells": [
  {
   "cell_type": "markdown",
   "metadata": {},
   "source": [
    "<h1 style=\"text-align: center;\"> Tarea Machine Learning </h1>\n",
    "<h1 style=\"text-align: right; font-size: 24px; margin-right: 10px;\">Guillermo Díaz Aguado</h1>"
   ]
  },
  {
   "cell_type": "code",
   "execution_count": 15,
   "metadata": {},
   "outputs": [],
   "source": [
    "import pandas as pd\n",
    "import numpy as np\n",
    "import matplotlib.pyplot as plt\n"
   ]
  },
  {
   "cell_type": "code",
   "execution_count": 20,
   "metadata": {},
   "outputs": [],
   "source": [
    "df = pd.read_excel(\"datos_tarea25.xlsx\")"
   ]
  },
  {
   "cell_type": "code",
   "execution_count": 21,
   "metadata": {},
   "outputs": [
    {
     "data": {
      "text/plain": [
       "{'Levy':          n         %\n",
       " Levy                \n",
       " -      644  0.148387\n",
       " 1017   155  0.035714\n",
       " 891    145  0.033410\n",
       " 394    127  0.029263\n",
       " 779    105  0.024194\n",
       " ...    ...       ...\n",
       " 1848     1  0.000230\n",
       " 1604     1  0.000230\n",
       " 2705     1  0.000230\n",
       " 2959     1  0.000230\n",
       " 11706    1  0.000230\n",
       " \n",
       " [203 rows x 2 columns],\n",
       " 'Manufacturer':                   n         %\n",
       " Manufacturer                 \n",
       " TOYOTA         1547  0.356452\n",
       " HYUNDAI        1234  0.284332\n",
       " MERCEDES-BENZ   932  0.214747\n",
       " LEXUS           627  0.144470,\n",
       " 'Category':               n         %\n",
       " Category                 \n",
       " Sedan      2317  0.533871\n",
       " Jeep       1510  0.347926\n",
       " Hatchback   513  0.118203,\n",
       " 'Leather interior':                      n         %\n",
       " Leather interior                \n",
       " Yes               3789  0.873041\n",
       " No                 551  0.126959,\n",
       " 'Fuel type':               n         %\n",
       " Fuel type                \n",
       " Petrol     2172  0.500461\n",
       " Hybrid     1248  0.287558\n",
       " Diesel      920  0.211982,\n",
       " 'Engine volume':                  n         %\n",
       " Engine volume               \n",
       " 2              705  0.162442\n",
       " 2.5            672  0.154839\n",
       " 3.5            613  0.141244\n",
       " 1.8            540  0.124424\n",
       " 1.6            305  0.070276\n",
       " 4.6            283  0.065207\n",
       " 1.5            257  0.059217\n",
       " 2.4            195  0.044931\n",
       " 3              128  0.029493\n",
       " 3.3             74  0.017051\n",
       " 4.7             69  0.015899\n",
       " 1.7             59  0.013594\n",
       " 3.0 Turbo       46  0.010599\n",
       " 2.0 Turbo       44  0.010138\n",
       " 2.7             40  0.009217\n",
       " 2.2             34  0.007834\n",
       " 5.5             31  0.007143\n",
       " 5.7             24  0.005530\n",
       " 3.2             21  0.004839\n",
       " 5               18  0.004147\n",
       " 6.2             17  0.003917\n",
       " 2.2 Turbo       17  0.003917\n",
       " 1.8 Turbo       17  0.003917\n",
       " 4               12  0.002765\n",
       " 1.3             11  0.002535\n",
       " 4.7 Turbo       11  0.002535\n",
       " 3.5 Turbo       10  0.002304\n",
       " 5.5 Turbo        7  0.001613\n",
       " 1.6 Turbo        7  0.001613\n",
       " 2.7 Turbo        7  0.001613\n",
       " 1                7  0.001613\n",
       " 3.2 Turbo        6  0.001382\n",
       " 3.8              5  0.001152\n",
       " 1.9              5  0.001152\n",
       " 1.4              4  0.000922\n",
       " 3.7              4  0.000922\n",
       " 2.1              4  0.000922\n",
       " 2.5 Turbo        3  0.000691\n",
       " 2.6              2  0.000461\n",
       " 0                2  0.000461\n",
       " 2.8              2  0.000461\n",
       " 2.4 Turbo        2  0.000461\n",
       " 4.3              2  0.000461\n",
       " 4.6 Turbo        2  0.000461\n",
       " 2.1 Turbo        2  0.000461\n",
       " 6.3              2  0.000461\n",
       " 6.3 Turbo        1  0.000230\n",
       " 4.5 Turbo        1  0.000230\n",
       " 4.2              1  0.000230\n",
       " 1.0 Turbo        1  0.000230\n",
       " 1.2              1  0.000230\n",
       " 5.7 Turbo        1  0.000230\n",
       " 0.1              1  0.000230\n",
       " 6                1  0.000230\n",
       " 0.6 Turbo        1  0.000230\n",
       " 3.4              1  0.000230\n",
       " 4.4              1  0.000230\n",
       " 1.5 Turbo        1  0.000230,\n",
       " 'Mileage':              n         %\n",
       " Mileage                 \n",
       " 0 km       108  0.024885\n",
       " 102907 km   27  0.006221\n",
       " 35058 km    24  0.005530\n",
       " 130000 km   23  0.005300\n",
       " 150000 km   23  0.005300\n",
       " ...        ...       ...\n",
       " 74990 km     1  0.000230\n",
       " 70400 km     1  0.000230\n",
       " 61146 km     1  0.000230\n",
       " 63083 km     1  0.000230\n",
       " 186923 km    1  0.000230\n",
       " \n",
       " [1826 rows x 2 columns],\n",
       " 'Gear box type':                   n         %\n",
       " Gear box type                \n",
       " Automatic      3691  0.850461\n",
       " Tiptronic       649  0.149539,\n",
       " 'Drive wheels':                  n         %\n",
       " Drive wheels                \n",
       " Front         2692  0.620276\n",
       " 4x4           1175  0.270737\n",
       " Rear           473  0.108986,\n",
       " 'Wheel':                      n        %\n",
       " Wheel                          \n",
       " Left wheel        4243  0.97765\n",
       " Right-hand drive    97  0.02235,\n",
       " 'Color':           n         %\n",
       " Color                \n",
       " Black  2327  0.536175\n",
       " White  2013  0.463825}"
      ]
     },
     "execution_count": 21,
     "metadata": {},
     "output_type": "execute_result"
    }
   ],
   "source": [
    "def analizar_variables_categoricas(datos):\n",
    "    \"\"\"\n",
    "    Analiza variables categóricas en un DataFrame.\n",
    "\n",
    "    Args:\n",
    "        datos (DataFrame): El DataFrame que contiene los datos.\n",
    "\n",
    "    Returns:\n",
    "        dict: Un diccionario donde aparecen las diferentes categorias, sus frecuencias\n",
    "        absolutas y relativas.\n",
    "    \"\"\"\n",
    "    # Inicializar un diccionario para almacenar los resultados\n",
    "    resultados = {}\n",
    "    \n",
    "    # Genera una lista con los nombres de las variables.\n",
    "    variables = list(datos.columns) \n",
    "    \n",
    "    # Seleccionar las columnas numéricas en el DataFrame\n",
    "    numericas = datos.select_dtypes(include=['int', 'int32', 'int64','float', 'float32', 'float64']).columns\n",
    "\n",
    "    # Seleccionar las columnas categóricas en el DataFrame\n",
    "    categoricas = [variable for variable in variables if variable not in numericas]\n",
    "    \n",
    "    # Iterar a través de las variables categóricas\n",
    "    for categoria in categoricas:\n",
    "        # Verificar si la variable categórica existe en el DataFrame\n",
    "        if categoria in datos.columns:\n",
    "            # Crear un DataFrame de resumen para la variable categórica\n",
    "            resumen = pd.DataFrame({\n",
    "                'n': datos[categoria].value_counts(),             # Conteo de frecuencias\n",
    "                '%': datos[categoria].value_counts(normalize=True)  # Porcentaje de frecuencias\n",
    "            })\n",
    "            resultados[categoria] = resumen  # Almacenar el resumen en el diccionario\n",
    "        else:\n",
    "            # Si la variable no existe en los datos, almacenar None en el diccionario\n",
    "            resultados[categoria] = None\n",
    "    \n",
    "    return resultados\n",
    "\n",
    "analizar_variables_categoricas(df)"
   ]
  },
  {
   "cell_type": "code",
   "execution_count": null,
   "metadata": {},
   "outputs": [],
   "source": [
    "\n",
    "\n",
    "# Quito los \"-\" de la columna \"Levy\"\n",
    "df[\"Levy\"] = df[\"Levy\"].replace(\"-\", np.nan)\n",
    "\n",
    "\n",
    "def poner_1_y_0(df, columna, str1, str0):\n",
    "    return df[columna].map({str1:1, str0:0})\n",
    "\n",
    "# Cambiar las columnas \"Leather interior\", \"Gear box type\", \"Wheel\", \"Color\" ->  a valores de 0 y 1\n",
    "df[\"Leather interior\"] = poner_1_y_0(df, \"Leather interior\", \"Yes\", \"No\")\n",
    "df[\"Gear box type\"] = poner_1_y_0(df, \"Gear box type\", \"Tiptronic\", \"Automatic\")\n",
    "df[\"Wheel\"] = poner_1_y_0(df, \"Wheel\", \"Left wheel\", \"Right-hand drive\")\n",
    "df[\"Color\"] = poner_1_y_0(df, \"Color\", \"White\", \"Black\")\n",
    "\n",
    "\n",
    "# Crear columna de 1 y 0 que indica si tiene turbo\n",
    "df[\"Tiene Turbo\"] = df[\"Engine volume\"].astype(str).str.contains(\"Turbo\").astype(int)\n",
    "\n",
    "# Limpiar la columna \"Engine volume\" y convertir a numérico\n",
    "df[\"Engine volume\"] = df[\"Engine volume\"].astype(str).str.replace(r\"Turbo\", \"\", regex=True).astype(float)\n",
    "\n",
    "# Limpiar la columna \"Mileage\" quitando \"km\"\n",
    "df[\"Mileage\"] = df[\"Mileage\"].astype(str).str.replace(r\"km\", \"\", regex=True).astype(int)\n",
    "\n"
   ]
  },
  {
   "cell_type": "code",
   "execution_count": 17,
   "metadata": {},
   "outputs": [
    {
     "data": {
      "text/plain": [
       "Price                 int64\n",
       "Levy                 object\n",
       "Manufacturer         object\n",
       "Prod. year            int64\n",
       "Category             object\n",
       "Leather interior      int64\n",
       "Fuel type            object\n",
       "Engine volume       float64\n",
       "Mileage               int32\n",
       "Cylinders             int64\n",
       "Gear box type         int64\n",
       "Drive wheels         object\n",
       "Wheel                 int64\n",
       "Color                 int64\n",
       "Airbags               int64\n",
       "Tiene Turbo           int32\n",
       "dtype: object"
      ]
     },
     "execution_count": 17,
     "metadata": {},
     "output_type": "execute_result"
    }
   ],
   "source": [
    "df.dtypes"
   ]
  },
  {
   "cell_type": "code",
   "execution_count": 18,
   "metadata": {},
   "outputs": [
    {
     "data": {
      "text/plain": [
       "Price                915\n",
       "Levy                 202\n",
       "Manufacturer           4\n",
       "Prod. year            29\n",
       "Category               3\n",
       "Leather interior       2\n",
       "Fuel type              3\n",
       "Engine volume         40\n",
       "Mileage             1826\n",
       "Cylinders             10\n",
       "Gear box type          2\n",
       "Drive wheels           3\n",
       "Wheel                  2\n",
       "Color                  2\n",
       "Airbags               16\n",
       "Tiene Turbo            2\n",
       "dtype: int64"
      ]
     },
     "execution_count": 18,
     "metadata": {},
     "output_type": "execute_result"
    }
   ],
   "source": [
    "df.nunique()"
   ]
  },
  {
   "cell_type": "code",
   "execution_count": 19,
   "metadata": {},
   "outputs": [
    {
     "data": {
      "text/plain": [
       "0       1\n",
       "1       1\n",
       "2       1\n",
       "3       1\n",
       "4       1\n",
       "       ..\n",
       "4335    1\n",
       "4336    1\n",
       "4337    1\n",
       "4338    1\n",
       "4339    1\n",
       "Name: Wheel, Length: 4340, dtype: int64"
      ]
     },
     "execution_count": 19,
     "metadata": {},
     "output_type": "execute_result"
    }
   ],
   "source": [
    "df[\"Wheel\"]"
   ]
  }
 ],
 "metadata": {
  "kernelspec": {
   "display_name": "Python 3",
   "language": "python",
   "name": "python3"
  },
  "language_info": {
   "codemirror_mode": {
    "name": "ipython",
    "version": 3
   },
   "file_extension": ".py",
   "mimetype": "text/x-python",
   "name": "python",
   "nbconvert_exporter": "python",
   "pygments_lexer": "ipython3",
   "version": "3.12.2"
  }
 },
 "nbformat": 4,
 "nbformat_minor": 2
}
